{
 "cells": [
  {
   "cell_type": "code",
   "execution_count": 3,
   "metadata": {},
   "outputs": [],
   "source": [
    "from scrape_league_data import create_underdog_df_dict\n",
    "from pull_bearer_token import pull_bearer_token\n",
    "import getpass\n",
    "import pandas as pd\n",
    "\n",
    "pd.set_option('display.max_rows', 50)\n",
    "pd.set_option('display.max_columns', 50)\n",
    "\n",
    "### Variables to change ###\n",
    "chromedriver_path = '/usr/bin/chromedriver'\n",
    "username = input('Enter Underdog username: ')\n",
    "password = getpass.getpass()\n",
    "\n",
    "### Keep as is ###\n",
    "url = \"https://underdogfantasy.com/lobby\"    \n",
    "bearer_token = pull_bearer_token(url, chromedriver_path, username, password)\n",
    "\n",
    "### Pull all major UD data elements ###\n",
    "# underdog_data = create_underdog_df_dict(bearer_token, sleep_time=5)"
   ]
  },
  {
   "cell_type": "code",
   "execution_count": 8,
   "metadata": {},
   "outputs": [],
   "source": [
    "underdog_data['df_drafts'].to_csv('df_drafts.csv', index=False)\n",
    "underdog_data['df_league_info'].to_csv('df_league_info.csv', index=False)"
   ]
  }
 ],
 "metadata": {
  "kernelspec": {
   "display_name": "Python 3.8.10 ('venv': venv)",
   "language": "python",
   "name": "python3"
  },
  "language_info": {
   "codemirror_mode": {
    "name": "ipython",
    "version": 3
   },
   "file_extension": ".py",
   "mimetype": "text/x-python",
   "name": "python",
   "nbconvert_exporter": "python",
   "pygments_lexer": "ipython3",
   "version": "3.8.10"
  },
  "orig_nbformat": 4,
  "vscode": {
   "interpreter": {
    "hash": "dc4492b5efc155a9cdcda09d43a20d3fd18b0b2d151b680a1414de88ecead1b9"
   }
  }
 },
 "nbformat": 4,
 "nbformat_minor": 2
}
