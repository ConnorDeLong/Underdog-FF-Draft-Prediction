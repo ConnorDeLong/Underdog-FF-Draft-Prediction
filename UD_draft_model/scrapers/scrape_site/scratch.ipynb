{
 "cells": [
  {
   "cell_type": "code",
   "execution_count": 3,
   "metadata": {},
   "outputs": [],
   "source": [
    "import scrape_league_data\n",
    "from pull_bearer_token import pull_bearer_token\n",
    "import getpass\n",
    "import pandas as pd\n",
    "\n",
    "pd.set_option('display.max_rows', 50)\n",
    "pd.set_option('display.max_columns', 50)\n",
    "\n",
    "### Variables to change ###\n",
    "chromedriver_path = '/usr/bin/chromedriver'\n",
    "username = input('Enter Underdog username: ')\n",
    "password = getpass.getpass()\n",
    "\n",
    "### Keep as is ###\n",
    "url = \"https://underdogfantasy.com/lobby\"    \n",
    "bearer_token = pull_bearer_token(url, chromedriver_path, username, password)\n",
    "\n",
    "### Pull all major UD data elements ###\n",
    "# underdog_data = create_underdog_df_dict(bearer_token, sleep_time=5)"
   ]
  }
 ],
 "metadata": {
  "kernelspec": {
   "display_name": "Python 3.8.10 ('venv')",
   "language": "python",
   "name": "python3"
  },
  "language_info": {
   "codemirror_mode": {
    "name": "ipython",
    "version": 3
   },
   "file_extension": ".py",
   "mimetype": "text/x-python",
   "name": "python",
   "nbconvert_exporter": "python",
   "pygments_lexer": "ipython3",
   "version": "3.8.10"
  },
  "orig_nbformat": 4,
  "vscode": {
   "interpreter": {
    "hash": "d0e37cf855e91354ea562db17405d816f1300731311690cd0a1f3bf6ed5d4d66"
   }
  }
 },
 "nbformat": 4,
 "nbformat_minor": 2
}
