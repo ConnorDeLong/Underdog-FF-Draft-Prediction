{
 "cells": [
  {
   "cell_type": "code",
   "execution_count": 1,
   "metadata": {},
   "outputs": [
    {
     "ename": "ModuleNotFoundError",
     "evalue": "No module named 'data_processing'",
     "output_type": "error",
     "traceback": [
      "\u001b[0;31m---------------------------------------------------------------------------\u001b[0m",
      "\u001b[0;31mModuleNotFoundError\u001b[0m                       Traceback (most recent call last)",
      "\u001b[0;32m/tmp/ipykernel_15976/2885417456.py\u001b[0m in \u001b[0;36m<module>\u001b[0;34m\u001b[0m\n\u001b[1;32m      2\u001b[0m \u001b[0;32mimport\u001b[0m \u001b[0mnumpy\u001b[0m \u001b[0;32mas\u001b[0m \u001b[0mnp\u001b[0m\u001b[0;34m\u001b[0m\u001b[0;34m\u001b[0m\u001b[0m\n\u001b[1;32m      3\u001b[0m \u001b[0;34m\u001b[0m\u001b[0m\n\u001b[0;32m----> 4\u001b[0;31m \u001b[0;32mimport\u001b[0m \u001b[0mdata_processing\u001b[0m\u001b[0;34m.\u001b[0m\u001b[0mread_data\u001b[0m \u001b[0;32mas\u001b[0m \u001b[0mread_data\u001b[0m\u001b[0;34m\u001b[0m\u001b[0;34m\u001b[0m\u001b[0m\n\u001b[0m\u001b[1;32m      5\u001b[0m \u001b[0;32mimport\u001b[0m \u001b[0mdata_processing\u001b[0m\u001b[0;34m.\u001b[0m\u001b[0mprepare_drafts\u001b[0m \u001b[0;32mas\u001b[0m \u001b[0mprepare_drafts\u001b[0m\u001b[0;34m\u001b[0m\u001b[0;34m\u001b[0m\u001b[0m\n\u001b[1;32m      6\u001b[0m \u001b[0;34m\u001b[0m\u001b[0m\n",
      "\u001b[0;31mModuleNotFoundError\u001b[0m: No module named 'data_processing'"
     ]
    }
   ],
   "source": [
    "import pandas as pd\n",
    "import numpy as np\n",
    "\n",
    "import data_processing.read_data as read_data\n",
    "import data_processing.prepare_drafts as prepare_drafts\n",
    "\n",
    "\n",
    "pd.set_option('display.max_rows', 600)\n",
    "pd.set_option('display.max_columns', 300)\n",
    "\n",
    "DATA_FOLDER = '/home/cdelong/Python-Projects/UD-Draft-Model/Repo-Work/UD-Draft-Model/data'\n",
    "RANKS_FOLDER = '/home/cdelong/Python-Projects/UD-Draft-Model/Repo-Work/UD-Draft-Model\\\n",
    "/data/2022/player_ranks'\n",
    "\n",
    "NUM_PLAYERS = 200\n",
    "\n",
    "df_ranks = read_data.read_ranks(DATA_FOLDER, [2021, 2022])\n",
    "df_lookups = read_data.read_lookups(DATA_FOLDER, [2021, 2022])\n",
    "df_drafts = read_data.read_drafts(DATA_FOLDER, [2021, 2022])\n",
    "\n",
    "# df_updated_types = prepare_drafts.update_dtypes(df_drafts)\n",
    "# df_complete_players = prepare_drafts.drafts_w_player_data(df_updated_types)\n",
    "# df_draft_attrs = prepare_drafts.add_draft_attrs(df_complete_players)\n",
    "# df_w_rank_type = prepare_drafts.add_draft_rank_type(df_draft_attrs)\n",
    "# df_w_rank_lookups = prepare_drafts.add_ranks_lookups(df_w_rank_type, df_lookups)\n",
    "# df_expanded = prepare_drafts.expand_all_drafts(df_w_rank_lookups, df_ranks, NUM_PLAYERS)\n",
    "# df_final = prepare_drafts.add_picked_indicator(df_expanded)\n",
    "\n",
    "df_final = prepare_drafts.process_data(df_drafts, df_ranks, df_lookups, NUM_PLAYERS)\n",
    "\n",
    "df_final"
   ]
  },
  {
   "cell_type": "code",
   "execution_count": 2,
   "metadata": {},
   "outputs": [
    {
     "name": "stdout",
     "output_type": "stream",
     "text": [
      "['/home/cdelong/Python-Projects/UD-Draft-Model/Repo-Work/UD-Draft-Model/UD_draft_model/modeling', '/usr/lib/python38.zip', '/usr/lib/python3.8', '/usr/lib/python3.8/lib-dynload', '', '/home/cdelong/Python-Projects/UD-Draft-Model/venv/lib/python3.8/site-packages', '/home/cdelong/Python-Projects/UD-Draft-Model/venv/lib/python3.8/site-packages/IPython/extensions', '/home/cdelong/.ipython']\n"
     ]
    }
   ],
   "source": [
    "import sys\n",
    "print(sys.path)"
   ]
  }
 ],
 "metadata": {
  "kernelspec": {
   "display_name": "Python 3.8.10 ('venv': venv)",
   "language": "python",
   "name": "python3"
  },
  "language_info": {
   "codemirror_mode": {
    "name": "ipython",
    "version": 3
   },
   "file_extension": ".py",
   "mimetype": "text/x-python",
   "name": "python",
   "nbconvert_exporter": "python",
   "pygments_lexer": "ipython3",
   "version": "3.8.10"
  },
  "orig_nbformat": 4,
  "vscode": {
   "interpreter": {
    "hash": "dc4492b5efc155a9cdcda09d43a20d3fd18b0b2d151b680a1414de88ecead1b9"
   }
  }
 },
 "nbformat": 4,
 "nbformat_minor": 2
}
