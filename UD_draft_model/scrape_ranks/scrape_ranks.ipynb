{
 "cells": [
  {
   "cell_type": "code",
   "execution_count": 80,
   "metadata": {},
   "outputs": [],
   "source": [
    "from selenium import webdriver\n",
    "from selenium.webdriver.common.keys import Keys\n",
    "from selenium.webdriver.common.by import By\n",
    "from selenium.webdriver.support.wait import WebDriverWait\n",
    "from math import ceil\n",
    "from os import path\n",
    "from time import sleep\n",
    "\n",
    "\n",
    "import pandas as pd\n",
    "\n",
    "\n",
    "def change_dates(driver: webdriver.Chrome, date: str) -> webdriver.Chrome:\n",
    "    \"\"\" \n",
    "    Updates the date filters \n",
    "    date param formatted as yyyy-mm-dd\n",
    "    \"\"\"\n",
    "\n",
    "    # Updates both date filters, although only the first is needed\n",
    "    for i in range(0, 2):\n",
    "        elem = driver.find_elements_by_class_name('form-control')[i]\n",
    "        elem.clear()\n",
    "        elem.send_keys(date)\n",
    "        elem.send_keys(Keys.RETURN)\n",
    "\n",
    "    return driver\n",
    "\n",
    "\n",
    "def next_page(driver: webdriver.Chrome) -> webdriver.Chrome:\n",
    "    \"\"\" Selects the next page of data \"\"\"\n",
    "\n",
    "    # Get parent navigation element\n",
    "    name = 'rt-pagination-nav'\n",
    "    nav = WebDriverWait(driver, timeout=10).until(lambda d: d.find_elements(By.CLASS_NAME, name))[0]\n",
    "\n",
    "    # Next button always listed last (can't select by the class name for some reason)\n",
    "    next = nav.find_elements_by_css_selector(\"*\")[-1]\n",
    "    next.send_keys(Keys.RETURN)\n",
    "\n",
    "    return driver\n",
    "\n",
    "\n",
    "def create_date_list(start_date: str, end_date: str) -> list:\n",
    "    \"\"\" Creates a list for every data between the start and end date params \"\"\"\n",
    "\n",
    "    start = datetime.datetime.strptime(start_date, '%Y-%m-%d')\n",
    "    end = datetime.datetime.strptime(end_date, '%Y-%m-%d')\n",
    "\n",
    "    num_days = (end - start).days\n",
    "\n",
    "    date_list = []\n",
    "    for i in range(0, num_days + 1):\n",
    "        day = start + datetime.timedelta(days=i)\n",
    "        date_list.append(day.strftime('%Y-%m-%d'))\n",
    "\n",
    "    return date_list\n",
    "\n",
    "\n",
    "def extract_page_ranks(driver: webdriver.Chrome) -> pd.DataFrame:\n",
    "    \"\"\" Extracts the current rankings table into a df\"\"\"\n",
    "\n",
    "    # Each element is a row with the children representing a column\n",
    "    rows = WebDriverWait(driver, timeout=10).until(lambda d: d.find_elements(By.CLASS_NAME,\"rt-tr\"))\n",
    "\n",
    "    data = []\n",
    "    for i, row in enumerate(rows):\n",
    "        # Don't need the header row\n",
    "        if i == 0:\n",
    "            continue\n",
    "        \n",
    "        cols = row.find_elements_by_css_selector(\"*\")\n",
    "        \n",
    "        extracted_row = []\n",
    "        for j, col in enumerate(cols):\n",
    "            # Excluding Old ADP, ADP Change, and Pos Rank\n",
    "            if j in(4, 5, 7):\n",
    "                continue\n",
    "\n",
    "            extracted_row.append(col.text)\n",
    "\n",
    "        data.append(extracted_row)\n",
    "\n",
    "    cols = ['player', 'pos', 'team', 'adp', 'rank']\n",
    "\n",
    "    df = pd.DataFrame(data, columns=cols)\n",
    "\n",
    "    return df\n",
    "\n",
    "\n",
    "def extract_day_ranks(driver: webdriver.Chrome, date: str, num_ranks: int=400) -> pd.DataFrame:\n",
    "    \"\"\" \n",
    "    Creates df of all ranks from a day up to the number of ranks passed \n",
    "    \n",
    "    \"\"\"\n",
    "\n",
    "    driver = change_dates(driver, date)\n",
    "\n",
    "    num_pages = ceil(num_ranks / 50)\n",
    "\n",
    "    dfs = []\n",
    "    for i in range(num_pages):\n",
    "        if i == 0:\n",
    "            df = extract_page_ranks(driver)\n",
    "        else:\n",
    "            driver = next_page(driver)            \n",
    "            df = extract_page_ranks(driver)\n",
    "\n",
    "        dfs.append(df)\n",
    "\n",
    "    df = pd.concat(dfs)\n",
    "    df['date'] = date\n",
    "\n",
    "    return df\n",
    "\n",
    "\n",
    "def export_day_ranks(url, driver_path, start_date: str, end_date: str\n",
    "                            , export_folder: str, num_ranks: int=400) -> None:\n",
    "    \"\"\" \n",
    "    Exports the ranks for each day from start_date to end_date as separate\n",
    "    csvs stored in the export_folder param\n",
    "    \"\"\"\n",
    "\n",
    "    dates = create_date_list(start_date, end_date)\n",
    "\n",
    "    for date in dates:\n",
    "        driver = webdriver.Chrome(CHROMEDRIVER_PATH)\n",
    "        driver.get(URL)\n",
    "\n",
    "        df = extract_day_ranks(driver, date, num_ranks)\n",
    "        \n",
    "        driver.close()\n",
    "        driver.quit()\n",
    "\n",
    "        date_f = date.replace('-', '')\n",
    "        full_path = path.join(export_folder, f'df_player_ranks_{date_f}.csv')\n",
    "\n",
    "        df.to_csv(full_path, index=False)\n",
    "\n",
    "        sleep(5)\n",
    "\n",
    "    return None\n",
    "\n",
    "\n",
    "CHROMEDRIVER_PATH = '/usr/bin/chromedriver'\n",
    "URL = 'https://sam-hoppen.shinyapps.io/UD_ADP/'\n",
    "OUTPUT_FOLDER = '~/Python-Projects/UD-Draft-Model/Repo-Work/UD-Draft-Model/data/2022/player_ranks'\n",
    "\n",
    "# driver = webdriver.Chrome(CHROMEDRIVER_PATH)\n",
    "# driver.get(URL)\n",
    "\n",
    "# export_day_ranks(URL, CHROMEDRIVER_PATH, '2022-10-01', '2022-10-08', OUTPUT_FOLDER, num_ranks=400)\n",
    "\n",
    "# df = extract_day_ranks(driver, '2022-06-03', num_ranks=400)\n",
    "\n",
    "# driver = change_dates(driver, '2022-06-03')\n",
    "# driver = next_page(driver)\n",
    "\n",
    "# x=1\n",
    "\n",
    "# check = export_multiple_day_ranks(driver, '2022-05-02', '2022-05-02', x)\n",
    "# check\n",
    "\n",
    "# adp_data = extract_page_ranks(driver)\n",
    "\n",
    "# driver.close()\n",
    "# driver.quit()"
   ]
  },
  {
   "cell_type": "code",
   "execution_count": 71,
   "metadata": {},
   "outputs": [
    {
     "data": {
      "text/plain": [
       "'20220502'"
      ]
     },
     "execution_count": 71,
     "metadata": {},
     "output_type": "execute_result"
    }
   ],
   "source": [
    "check = '2022-05-02'\n",
    "check = check.replace('-', '')\n",
    "check"
   ]
  },
  {
   "cell_type": "code",
   "execution_count": 53,
   "metadata": {},
   "outputs": [
    {
     "name": "stdout",
     "output_type": "stream",
     "text": [
      "['2022-05-02', '2022-05-03', '2022-05-04']\n"
     ]
    }
   ],
   "source": [
    "# 5/2 - 9/7\n",
    "import datetime\n",
    "\n",
    "# start = datetime.datetime(2022, 5, 2).strftime('%Y-%m-%d')\n",
    "start = datetime.datetime(2022, 5, 2)\n",
    "end = datetime.datetime(2022, 9, 7)\n",
    "end = datetime.datetime(2022, 5, 4)\n",
    "\n",
    "num_days = (end - start).days\n",
    "\n",
    "date_list = []\n",
    "for i in range(0, num_days + 1):\n",
    "    day = start + datetime.timedelta(days=i)\n",
    "    date_list.append(day.strftime('%Y-%m-%d'))\n",
    "\n",
    "print(date_list)"
   ]
  },
  {
   "cell_type": "code",
   "execution_count": 56,
   "metadata": {},
   "outputs": [
    {
     "data": {
      "text/plain": [
       "['2022-05-02',\n",
       " '2022-05-03',\n",
       " '2022-05-04',\n",
       " '2022-05-05',\n",
       " '2022-05-06',\n",
       " '2022-05-07',\n",
       " '2022-05-08',\n",
       " '2022-05-09',\n",
       " '2022-05-10',\n",
       " '2022-05-11',\n",
       " '2022-05-12',\n",
       " '2022-05-13',\n",
       " '2022-05-14',\n",
       " '2022-05-15',\n",
       " '2022-05-16',\n",
       " '2022-05-17',\n",
       " '2022-05-18',\n",
       " '2022-05-19',\n",
       " '2022-05-20',\n",
       " '2022-05-21',\n",
       " '2022-05-22',\n",
       " '2022-05-23',\n",
       " '2022-05-24',\n",
       " '2022-05-25',\n",
       " '2022-05-26',\n",
       " '2022-05-27',\n",
       " '2022-05-28',\n",
       " '2022-05-29',\n",
       " '2022-05-30',\n",
       " '2022-05-31',\n",
       " '2022-06-01',\n",
       " '2022-06-02']"
      ]
     },
     "execution_count": 56,
     "metadata": {},
     "output_type": "execute_result"
    }
   ],
   "source": [
    "def create_date_list(start_date: str, end_date: str) -> list:\n",
    "    \"\"\" Creates a list for every data between the start and end date params \"\"\"\n",
    "\n",
    "    start = datetime.datetime.strptime(start_date, '%Y-%m-%d')\n",
    "    end = datetime.datetime.strptime(end_date, '%Y-%m-%d')\n",
    "\n",
    "    num_days = (end - start).days\n",
    "\n",
    "    date_list = []\n",
    "    for i in range(0, num_days + 1):\n",
    "        day = start + datetime.timedelta(days=i)\n",
    "        date_list.append(day.strftime('%Y-%m-%d'))\n",
    "\n",
    "    return date_list\n",
    "\n",
    "check = create_date_list('2022-05-02', '2022-06-02')\n",
    "\n",
    "check"
   ]
  },
  {
   "cell_type": "code",
   "execution_count": 55,
   "metadata": {},
   "outputs": [
    {
     "data": {
      "text/plain": [
       "datetime.datetime(2022, 5, 2, 0, 0)"
      ]
     },
     "execution_count": 55,
     "metadata": {},
     "output_type": "execute_result"
    }
   ],
   "source": [
    "check = datetime.datetime.strptime('2022-05-02', '%Y-%m-%d')\n",
    "check"
   ]
  },
  {
   "cell_type": "code",
   "execution_count": 23,
   "metadata": {},
   "outputs": [
    {
     "name": "stdout",
     "output_type": "stream",
     "text": [
      "1\n"
     ]
    }
   ],
   "source": [
    "for i in range(0, 2):\n",
    "    if i == 0:\n",
    "        continue\n",
    "    \n",
    "    print(i)"
   ]
  },
  {
   "cell_type": "code",
   "execution_count": 25,
   "metadata": {},
   "outputs": [
    {
     "name": "stdout",
     "output_type": "stream",
     "text": [
      "[]\n"
     ]
    }
   ],
   "source": [
    "# elem = driver.find_element_by_id('date_filter')\n",
    "# elem = driver.find_elements(By.CLASS_NAME, 'form-control')\n",
    "# elem = driver.find_elements(By.XPATH, '//article[0]')\n",
    "\n",
    "\n",
    "elem = WebDriverWait(driver, timeout=10).until(lambda d: d.find_elements(By.CLASS_NAME,\"rt-tr\"))[1]\n",
    "children = elem.find_elements_by_css_selector(\"*\")[0]\n",
    "\n",
    "print(children.text)\n",
    "\n",
    "# print(children)\n",
    "\n",
    "# print(elem)"
   ]
  }
 ],
 "metadata": {
  "kernelspec": {
   "display_name": "Python 3.8.10 ('venv')",
   "language": "python",
   "name": "python3"
  },
  "language_info": {
   "codemirror_mode": {
    "name": "ipython",
    "version": 3
   },
   "file_extension": ".py",
   "mimetype": "text/x-python",
   "name": "python",
   "nbconvert_exporter": "python",
   "pygments_lexer": "ipython3",
   "version": "3.8.10"
  },
  "orig_nbformat": 4,
  "vscode": {
   "interpreter": {
    "hash": "73f75ff0f6fcbbafe03405771c8336d45274b3e40d79692757d67ff5306c22cd"
   }
  }
 },
 "nbformat": 4,
 "nbformat_minor": 2
}
