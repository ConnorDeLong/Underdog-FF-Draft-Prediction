{
 "cells": [
  {
   "cell_type": "code",
   "execution_count": 1,
   "metadata": {},
   "outputs": [],
   "source": [
    "import pandas as pd\n",
    "import numpy as np\n",
    "from os import listdir\n",
    "from os import path\n",
    "import prepare_drafts as drafts\n",
    "\n",
    "\n",
    "def create_lookup(df: pd.DataFrame, col: str, lookup_type: str) -> pd.DataFrame:\n",
    "    \"\"\" Creates a section of the lookups data. \"\"\"\n",
    "    df = df.copy()\n",
    "    \n",
    "    keep_vars = ['draft_year', col]\n",
    "    df = df_w_rank[keep_vars].drop_duplicates(subset=keep_vars)\n",
    "\n",
    "    df.rename(columns={col: 'drafts_val'}, inplace=True)\n",
    "    df['ranks_val'] = df['drafts_val']\n",
    "    df['lookup_type'] = lookup_type\n",
    "\n",
    "    df = df.loc[df['drafts_val'].notnull()]\n",
    "\n",
    "    df = df[['lookup_type', 'draft_year', 'drafts_val', 'ranks_val']]\n",
    "\n",
    "    return df\n",
    "\n",
    "\n",
    "def export_lookups(df: pd.DataFrame, folder_path: str, file_name: str) -> None:\n",
    "    df_player = create_lookup(df, 'full_name', 'player')\n",
    "    df_team = create_lookup(df, 'team_name', 'team')\n",
    "    df_pos = create_lookup(df, 'position', 'position')\n",
    "\n",
    "    df = pd.concat([df_player, df_team, df_pos])\n",
    "\n",
    "    df.to_csv(path.join(folder_path, file_name), index=False)\n",
    "\n",
    "\n",
    "pd.set_option('display.max_rows', 300)\n",
    "\n",
    "DRAFTS_FOLDER = '/home/cdelong/Python-Projects/UD-Draft-Model/Repo-Work/UD-Draft-Model/data'\n",
    "\n",
    "df_drafts = drafts.read_raw_data(DRAFTS_FOLDER, [2021])\n",
    "df_updated_types = drafts.update_dtypes(df_drafts)\n",
    "df_complete_players = drafts.drafts_w_player_data(df_updated_types)\n",
    "df_draft_attrs = drafts.add_draft_attrs(df_complete_players)\n",
    "df_w_rank = drafts._add_rank_derived(df_draft_attrs)"
   ]
  },
  {
   "cell_type": "code",
   "execution_count": 18,
   "metadata": {},
   "outputs": [],
   "source": [
    "##############################################################################################\n",
    "############################# Create Custom Lookups ##########################################\n",
    "##############################################################################################\n",
    "\n",
    "OUTPUT_FOLDER = '/home/cdelong/Python-Projects/UD-Draft-Model/Repo-Work/UD-Draft-Model\\\n",
    "/data/2021'\n",
    "export_lookups(df_w_rank, OUTPUT_FOLDER, 'lookups_2021.csv')\n"
   ]
  },
  {
   "cell_type": "code",
   "execution_count": 4,
   "metadata": {},
   "outputs": [],
   "source": [
    "##############################################################################################\n",
    "############################### Create Custom Ranks ##########################################\n",
    "##############################################################################################\n",
    "\n",
    "keep_vars = ['full_name', 'position', 'team_name', 'projection_adp'\n",
    "            , 'rank_derived', 'draft_date']\n",
    "rename_vars = {'full_name': 'player', 'position': 'pos', 'team_name': 'team'\n",
    "            , 'projection_adp': 'adp', 'rank_derived': 'rank', 'draft_date': 'date'}\n",
    "\n",
    "df = df_w_rank[keep_vars].copy()\n",
    "df.rename(columns=rename_vars, inplace=True)\n",
    "\n",
    "df['type'] = 'custom'\n",
    "\n",
    "OUTPUT_FOLDER = '/home/cdelong/Python-Projects/UD-Draft-Model/Repo-Work/UD-Draft-Model\\\n",
    "/data/2021/player_ranks'\n",
    "df.to_csv(path.join(OUTPUT_FOLDER, 'df_player_ranks_2021.csv'), index=False)\n",
    "\n",
    "# df"
   ]
  }
 ],
 "metadata": {
  "kernelspec": {
   "display_name": "Python 3.8.10 ('venv')",
   "language": "python",
   "name": "python3"
  },
  "language_info": {
   "codemirror_mode": {
    "name": "ipython",
    "version": 3
   },
   "file_extension": ".py",
   "mimetype": "text/x-python",
   "name": "python",
   "nbconvert_exporter": "python",
   "pygments_lexer": "ipython3",
   "version": "3.8.10"
  },
  "orig_nbformat": 4,
  "vscode": {
   "interpreter": {
    "hash": "73f75ff0f6fcbbafe03405771c8336d45274b3e40d79692757d67ff5306c22cd"
   }
  }
 },
 "nbformat": 4,
 "nbformat_minor": 2
}
