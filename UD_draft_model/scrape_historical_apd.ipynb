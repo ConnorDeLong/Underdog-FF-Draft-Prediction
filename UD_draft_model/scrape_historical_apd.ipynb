{
 "cells": [
  {
   "cell_type": "code",
   "execution_count": 44,
   "metadata": {},
   "outputs": [],
   "source": [
    "from selenium import webdriver\n",
    "from selenium.webdriver.common.keys import Keys\n",
    "from selenium.webdriver.common.by import By\n",
    "from selenium.webdriver.support.wait import WebDriverWait\n",
    "\n",
    "import pandas as pd\n",
    "\n",
    "\n",
    "def change_dates(driver: webdriver.Chrome, date: str) -> webdriver.Chrome:\n",
    "    \"\"\" \n",
    "    Updates the date filters \n",
    "    date param formatted as yyyy-mm-dd\n",
    "    \"\"\"\n",
    "\n",
    "    # Updates both date filters, although only the first is needed\n",
    "    for i in range(0, 2):\n",
    "        elem = driver.find_elements_by_class_name('form-control')[i]\n",
    "        elem.clear()\n",
    "        elem.send_keys(date)\n",
    "        elem.send_keys(Keys.RETURN)\n",
    "\n",
    "    return driver\n",
    "\n",
    "\n",
    "def extract_ranks(driver: webdriver.Chrome) -> pd.DataFrame:\n",
    "    \"\"\" Extracts the current rankings table into a df\"\"\"\n",
    "\n",
    "    # Each element is a row with the children representing a column\n",
    "    rows = WebDriverWait(driver, timeout=10).until(lambda d: d.find_elements(By.CLASS_NAME,\"rt-tr\"))\n",
    "\n",
    "    data = []\n",
    "    for i, row in enumerate(rows):\n",
    "        # Don't need the header row\n",
    "        if i == 0:\n",
    "            continue\n",
    "        \n",
    "        cols = row.find_elements_by_css_selector(\"*\")\n",
    "        \n",
    "        extracted_row = []\n",
    "        for j, col in enumerate(cols):\n",
    "            # Excluding Old ADP, ADP Change, and Pos Rank\n",
    "            if j in(4, 5, 7):\n",
    "                continue\n",
    "\n",
    "            extracted_row.append(col.text)\n",
    "\n",
    "        data.append(extracted_row)\n",
    "\n",
    "    cols = ['player', 'pos', 'team', 'adp', 'rank']\n",
    "\n",
    "    df = pd.DataFrame(data, columns=cols)\n",
    "\n",
    "    return df\n",
    "\n",
    "\n",
    "def next_page(driver: webdriver.Chrome) -> webdriver.Chrome:\n",
    "    \"\"\" Selects the next page of data \"\"\"\n",
    "\n",
    "    # Get parent navigation element\n",
    "    name = 'rt-pagination-nav'\n",
    "    nav = WebDriverWait(driver, timeout=10).until(lambda d: d.find_elements(By.CLASS_NAME, name))[0]\n",
    "\n",
    "    # Next button always listed last (can't select by the class name for some reason)\n",
    "    next = nav.find_elements_by_css_selector(\"*\")[-1]\n",
    "    next.send_keys(Keys.RETURN)\n",
    "\n",
    "    return driver\n",
    "\n",
    "CHROMEDRIVER_PATH = '/usr/bin/chromedriver'\n",
    "URL = 'https://sam-hoppen.shinyapps.io/UD_ADP/'\n",
    "\n",
    "driver = webdriver.Chrome(CHROMEDRIVER_PATH)\n",
    "driver.get(URL)\n",
    "\n",
    "driver = change_dates(driver, '2022-06-03')\n",
    "driver = next_page(driver)\n",
    "\n",
    "\n",
    "# adp_data = extract_ranks(driver)\n",
    "\n",
    "\n",
    "# driver.close()\n",
    "# driver.quit()"
   ]
  },
  {
   "cell_type": "code",
   "execution_count": 23,
   "metadata": {},
   "outputs": [
    {
     "name": "stdout",
     "output_type": "stream",
     "text": [
      "1\n"
     ]
    }
   ],
   "source": [
    "for i in range(0, 2):\n",
    "    if i == 0:\n",
    "        continue\n",
    "    \n",
    "    print(i)"
   ]
  },
  {
   "cell_type": "code",
   "execution_count": 25,
   "metadata": {},
   "outputs": [
    {
     "name": "stdout",
     "output_type": "stream",
     "text": [
      "[]\n"
     ]
    }
   ],
   "source": [
    "# elem = driver.find_element_by_id('date_filter')\n",
    "# elem = driver.find_elements(By.CLASS_NAME, 'form-control')\n",
    "# elem = driver.find_elements(By.XPATH, '//article[0]')\n",
    "\n",
    "\n",
    "elem = WebDriverWait(driver, timeout=10).until(lambda d: d.find_elements(By.CLASS_NAME,\"rt-tr\"))[1]\n",
    "children = elem.find_elements_by_css_selector(\"*\")[0]\n",
    "\n",
    "print(children.text)\n",
    "\n",
    "# print(children)\n",
    "\n",
    "# print(elem)"
   ]
  }
 ],
 "metadata": {
  "kernelspec": {
   "display_name": "Python 3.8.10 ('venv')",
   "language": "python",
   "name": "python3"
  },
  "language_info": {
   "codemirror_mode": {
    "name": "ipython",
    "version": 3
   },
   "file_extension": ".py",
   "mimetype": "text/x-python",
   "name": "python",
   "nbconvert_exporter": "python",
   "pygments_lexer": "ipython3",
   "version": "3.8.10"
  },
  "orig_nbformat": 4,
  "vscode": {
   "interpreter": {
    "hash": "73f75ff0f6fcbbafe03405771c8336d45274b3e40d79692757d67ff5306c22cd"
   }
  }
 },
 "nbformat": 4,
 "nbformat_minor": 2
}
