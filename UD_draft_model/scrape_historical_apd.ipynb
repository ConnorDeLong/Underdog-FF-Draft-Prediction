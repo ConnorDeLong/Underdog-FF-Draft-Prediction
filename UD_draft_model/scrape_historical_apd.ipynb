{
 "cells": [
  {
   "cell_type": "code",
   "execution_count": 22,
   "metadata": {},
   "outputs": [
    {
     "name": "stdout",
     "output_type": "stream",
     "text": [
      "8\n"
     ]
    }
   ],
   "source": [
    "from selenium import webdriver\n",
    "from selenium.webdriver.common.keys import Keys\n",
    "from selenium.webdriver.common.desired_capabilities import DesiredCapabilities\n",
    "from selenium.webdriver.common.by import By\n",
    "from selenium.webdriver.support.wait import WebDriverWait\n",
    "\n",
    "### Variables to change ###\n",
    "chromedriver_path = '/usr/bin/chromedriver'\n",
    "# url = 'https://www.4for4.com/underdog-adp'\n",
    "url = 'https://sam-hoppen.shinyapps.io/UD_ADP/'\n",
    "\n",
    "capabilities = DesiredCapabilities.CHROME\n",
    "capabilities[\"goog:loggingPrefs\"] = {\"performance\": \"ALL\"}\n",
    "\n",
    "driver = webdriver.Chrome(chromedriver_path)\n",
    "driver.get(url)\n",
    "\n",
    "# element = WebDriverWait(driver, timeout=10).until(lambda d: d.find_element(By.TAG_NAME,\"form-control\"))\n",
    "\n",
    "def change_dates(driver: webdriver.Chrome, date: str) -> webdriver.Chrome:\n",
    "    \"\"\" \n",
    "    Updates the date filters \n",
    "    date param formatted as yyyy-mm-dd\n",
    "    \"\"\"\n",
    "\n",
    "    for i in range(0, 2):\n",
    "        elem = driver.find_elements_by_class_name('form-control')[i]\n",
    "        elem.clear()\n",
    "        elem.send_keys(date)\n",
    "        elem.send_keys(Keys.RETURN)\n",
    "\n",
    "    return driver\n",
    "\n",
    "\n",
    "driver = change_dates(driver, '2022-06-03')\n",
    "\n",
    "# elem = driver.find_element_by_class_name('ReactTable')\n",
    "# el = driver.find_elements_by_class_name('rt-tr')\n",
    "# children = elem.find_elements_by_css_selector(\"*\")\n",
    "\n",
    "elem = WebDriverWait(driver, timeout=10).until(lambda d: d.find_elements(By.CLASS_NAME,\"rt-tr\"))[1]\n",
    "children = elem.find_elements_by_css_selector(\"*\")\n",
    "\n",
    "count = 0\n",
    "for i in children:\n",
    "    count += 1\n",
    "\n",
    "# print(children)\n",
    "\n",
    "print(count)\n",
    "# print(elem)\n",
    "\n",
    "driver.close()\n",
    "driver.quit()"
   ]
  },
  {
   "cell_type": "code",
   "execution_count": 25,
   "metadata": {},
   "outputs": [
    {
     "name": "stdout",
     "output_type": "stream",
     "text": [
      "[]\n"
     ]
    }
   ],
   "source": [
    "# elem = driver.find_element_by_id('date_filter')\n",
    "# elem = driver.find_elements(By.CLASS_NAME, 'form-control')\n",
    "# elem = driver.find_elements(By.XPATH, '//article[0]')"
   ]
  }
 ],
 "metadata": {
  "kernelspec": {
   "display_name": "Python 3.8.10 ('venv')",
   "language": "python",
   "name": "python3"
  },
  "language_info": {
   "codemirror_mode": {
    "name": "ipython",
    "version": 3
   },
   "file_extension": ".py",
   "mimetype": "text/x-python",
   "name": "python",
   "nbconvert_exporter": "python",
   "pygments_lexer": "ipython3",
   "version": "3.8.10"
  },
  "orig_nbformat": 4,
  "vscode": {
   "interpreter": {
    "hash": "73f75ff0f6fcbbafe03405771c8336d45274b3e40d79692757d67ff5306c22cd"
   }
  }
 },
 "nbformat": 4,
 "nbformat_minor": 2
}
